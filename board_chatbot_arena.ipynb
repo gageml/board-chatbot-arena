{
 "cells": [
  {
   "cell_type": "code",
   "execution_count": 26,
   "metadata": {},
   "outputs": [
    {
     "name": "stdout",
     "output_type": "stream",
     "text": [
      "{'RWKV-4-Raven-14B': 924.2317268388713, 'alpaca-13b': 903.7413141852036, 'chatglm-6b': 882.4642096846417, 'chatglm2-6b': 928.8566272430447, 'chatglm3-6b': 959.9758249227476, 'claude-1': 1149.3793408751726, 'claude-2.0': 1130.6167042119255, 'claude-2.1': 1118.77207689072, 'claude-instant-1': 1109.3800309435396, 'codellama-34b-instruct': 1041.413339611721, 'dolly-v2-12b': 822.3539115935789, 'dolphin-2.2.1-mistral-7b': 1064.7688756493415, 'falcon-180b-chat': 1031.1130323099937, 'fastchat-t5-3b': 873.504919860924, 'gemini-pro': 1113.7702079441667, 'gemini-pro-dev-api': 1120.446709756838, 'gpt-3.5-turbo-0314': 1104.4732058401285, 'gpt-3.5-turbo-0613': 1116.1678581005403, 'gpt-3.5-turbo-1106': 1072.3127692943162, 'gpt-4-0314': 1190.4987391795019, 'gpt-4-0613': 1159.625234070882, 'gpt-4-turbo': 1249.3346609192497, 'gpt4all-13b-snoozy': 936.7062953652393, 'guanaco-33b': 1030.9219002800637, 'koala-13b': 965.4680021248472, 'llama-13b': 800.0, 'llama-2-13b-chat': 1036.726951506475, 'llama-2-70b-chat': 1079.0267127663892, 'llama-2-7b-chat': 1017.2637098483689, 'llama2-70b-steerlm-chat': 1076.6773342175604, 'mistral-7b-instruct': 1016.1258960307227, 'mistral-medium': 1149.8669921986098, 'mixtral-8x7b-instruct-v0.1': 1123.4833535303965, 'mpt-30b-chat': 1042.3373391170167, 'mpt-7b-chat': 930.0812782237847, 'oasst-pythia-12b': 896.3711106660139, 'openchat-3.5': 1076.3465535893727, 'openhermes-2.5-mistral-7b': 1078.8705255159946, 'palm-2': 1004.4539515405091, 'pplx-70b-online': 1072.9539058759551, 'pplx-7b-online': 1034.7251324812541, 'qwen-14b-chat': 1036.2059432369579, 'solar-10.7b-instruct-v1.0': 1064.6469735447827, 'stablelm-tuned-alpha-7b': 844.4260605393105, 'starling-lm-7b-alpha': 1092.2841141600634, 'tulu-2-dpo-70b': 1106.076435115247, 'vicuna-13b': 1040.6596170023759, 'vicuna-33b': 1093.7786175988003, 'vicuna-7b': 1004.0655251979725, 'wizardlm-13b': 1057.0014110373595, 'wizardlm-70b': 1104.2189723358424, 'yi-34b-chat': 1110.8963083518927, 'zephyr-7b-alpha': 1037.2304904494895, 'zephyr-7b-beta': 1049.230704438813}\n"
     ]
    }
   ],
   "source": [
    "import gdown\n",
    "import json\n",
    "import math\n",
    "import numpy as np\n",
    "import os\n",
    "import pandas as pd\n",
    "import tempfile\n",
    "\n",
    "def compute_mle_elo(df, SCALE=400, BASE=10, INIT_RATING=1000):\n",
    "    from sklearn.linear_model import LogisticRegression\n",
    "    models = pd.concat([df[\"model_a\"], df[\"model_b\"]]).unique()\n",
    "    models = pd.Series(np.arange(len(models)), index=models)\n",
    "\n",
    "    # duplicate battles\n",
    "    df = pd.concat([df, df], ignore_index=True)\n",
    "    p = len(models.index)\n",
    "    n = df.shape[0]\n",
    "\n",
    "    X = np.zeros([n, p])\n",
    "    X[np.arange(n), models[df[\"model_a\"]]] = +math.log(BASE)\n",
    "    X[np.arange(n), models[df[\"model_b\"]]] = -math.log(BASE)\n",
    "\n",
    "    # one A win => two A win\n",
    "    Y = np.zeros(n)\n",
    "    Y[df[\"winner\"] == \"model_a\"] = 1.0\n",
    "\n",
    "    # one tie => one A win + one B win\n",
    "    # find tie + tie (both bad) index\n",
    "    tie_idx = (df[\"winner\"] == \"tie\") | (df[\"winner\"] == \"tie (bothbad)\")\n",
    "    tie_idx[len(tie_idx)//2:] = False\n",
    "    Y[tie_idx] = 1.0\n",
    "\n",
    "    lr = LogisticRegression(fit_intercept=False)\n",
    "    lr.fit(X,Y)\n",
    "\n",
    "    elo_scores = SCALE * lr.coef_[0] + INIT_RATING\n",
    "\n",
    "    # calibrate llama-13b to 800\n",
    "    elo_scores += (800-elo_scores[models[\"llama-13b\"]])\n",
    "    return pd.Series(elo_scores, index = models.index).sort_values(ascending=False)\n",
    "\n",
    "def preety_print_model_ratings(ratings):\n",
    "    df = pd.DataFrame([\n",
    "        [n, ratings[n]] for n in ratings.keys()\n",
    "    ], columns=[\"Model\", \"Elo rating\"]).sort_values(\"Elo rating\", ascending=False).reset_index(drop=True)\n",
    "    df[\"Elo rating\"] = (df[\"Elo rating\"] + 0.5).astype(int)\n",
    "    df.index = df.index + 1\n",
    "    return df\n",
    "\n",
    "default_repo_dir = os.path.join(tempfile.gettempdir(), \"chatbot-arena-leaderboard\")\n",
    "file = os.path.join(default_repo_dir, \"chatbot_arena_raw_results.json\")\n",
    "summaries_file = os.path.join(default_repo_dir, \"chatbot_arena_summary_results.json\")\n",
    "\n",
    "if not os.path.exists(default_repo_dir):\n",
    "    url = \"https://drive.google.com/file/d/1jjJ8k3L-BzFKSevoGo6yaJ-jCjc2SCK1/view\"\n",
    "    gfile = gdown.download(url, quiet=False, fuzzy=True)\n",
    "    os.makedirs(default_repo_dir)\n",
    "    os.rename(gfile, file)\n",
    "    battles = pd.read_json(file).sort_values(ascending=True, by=[\"tstamp\"])\n",
    "    elo_mle_ratings = compute_mle_elo(battles)\n",
    "    with open(summaries_file, \"w\") as f:\n",
    "        summary = elo_mle_ratings.to_dict()\n",
    "        json.dump(summary, f, indent=2, sort_keys=True)\n",
    "\n",
    "with open(summaries_file) as f:\n",
    "    summaries = json.load(f)\n",
    "print(summaries)"
   ]
  },
  {
   "cell_type": "code",
   "execution_count": null,
   "metadata": {},
   "outputs": [],
   "source": [
    "import datetime\n",
    "datetime.datetime.now()"
   ]
  },
  {
   "cell_type": "code",
   "execution_count": 80,
   "metadata": {},
   "outputs": [
    {
     "name": "stdout",
     "output_type": "stream",
     "text": [
      "/tmp/chatbot-arena-leaderboard/leaderboard_table_20240202.csv\n",
      "key,Model,MT-bench (score),MMLU,Knowledge cutoff date,License,Organization,Link\n",
      "/tmp/chatbot-arena-leaderboard/elo_results_20240202.pkl\n",
      "[('gpt-4-0125-preview', 1185.0242535070245), ('gpt-4-1106-preview', 1174.2202487750335), ('bard-jan-24-gemini-pro', 1157.7501884490775), ('gpt-4-0314', 1119.8450053650527), ('gpt-4-0613', 1114.8661181537755), ('gpt-3.5-turbo-0314', 1096.2755359505593), ('mistral-medium', 1092.3366290152812), ('claude-2.0', 1080.842239007839), ('gemini-pro-dev-api', 1059.1902937142418), ('claude-1', 1058.1615194287863), ('claude-2.1', 1056.7886202746788), ('gemini-pro', 1056.3051100624186), ('yi-34b-chat', 1043.816203851759), ('llama-2-70b-chat', 1034.2985767808748), ('gpt-3.5-turbo-0613', 1031.481077044045), ('starling-lm-7b-alpha', 1031.0682027163396), ('tulu-2-dpo-70b', 1029.4041534728487), ('dolphin-2.2.1-mistral-7b', 1028.7071580781405), ('guanaco-33b', 1028.5048373390007), ('llama2-70b-steerlm-chat', 1026.1145819801166), ('mpt-30b-chat', 1025.1224175207133), ('claude-instant-1', 1024.5708097281872), ('wizardlm-13b', 1023.2828969243726), ('openhermes-2.5-mistral-7b', 1022.7404324561519), ('llama-2-13b-chat', 1022.4306727818966), ('pplx-70b-online', 1018.6837266728919), ('wizardlm-70b', 1017.6513500153112), ('solar-10.7b-instruct-v1.0', 1013.8223894334749), ('vicuna-33b', 1011.6509581328893), ('zephyr-7b-alpha', 1001.4925848666996), ('openchat-3.5', 1000.158759378145), ('pplx-7b-online', 1000.0562340092513), ('codellama-34b-instruct', 994.1947575322849), ('gpt-3.5-turbo-1106', 990.1689282968588), ('zephyr-7b-beta', 988.8310056643049), ('mixtral-8x7b-instruct-v0.1', 986.647512487853), ('llama-2-7b-chat', 985.2508612306912), ('deepseek-llm-67b-chat', 983.7742535456014), ('palm-2', 980.6270546894986), ('vicuna-13b', 975.7855102502864), ('falcon-180b-chat', 973.9428319097385), ('vicuna-7b', 962.6158366008492), ('stripedhyena-nous-7b', 961.7872257622734), ('qwen-14b-chat', 960.1819062825272), ('koala-13b', 954.9009566268815), ('gpt4all-13b-snoozy', 945.2529517267023), ('mpt-7b-chat', 935.7443306166591), ('RWKV-4-Raven-14B', 933.4281854792838), ('chatglm-6b', 914.6704836379229), ('alpaca-13b', 909.5526819123221), ('chatglm2-6b', 896.6640112819972), ('chatglm3-6b', 890.8477145694658), ('mistral-7b-instruct', 887.8773915922612), ('stablelm-tuned-alpha-7b', 886.5855873039216), ('oasst-pythia-12b', 870.4067570302726), ('fastchat-t5-3b', 856.0950671909823), ('llama-13b', 850.199044727098), ('dolly-v2-12b', 837.3033671645815)]\n",
      "[1253.0426073408823, 1252.4023600650376, 1223.7988586041386, 1189.548557187767, 1161.6607847942712, 1150.2769554333065, 1149.3442540919461, 1132.317339258891, 1120.300760729833, 1118.7832233254785, 1118.1122835609503, 1118.0784101838212, 1114.5071970187196, 1114.3111147944376, 1109.4714025612695, 1105.2571639542348, 1104.8148811707322, 1103.7049526653798, 1093.4173581256907, 1089.5252242123993, 1082.0, 1081.7333719339758, 1077.9213886442594, 1077.7565010123178, 1076.156140464665, 1075.6900336914805, 1071.34348146577, 1064.6555895604838, 1064.6547951988798, 1058.0881141607015, 1050.621049305044, 1043.9396770969938, 1043.438123919167, 1041.844178819788, 1040.3549220401433, 1038.3258447780543, 1037.1838090995325, 1033.5880569711242, 1031.9722879472547, 1031.912320867041, 1024.1410993269724, 1019.503408798114, 1006.4716009809872, 1005.5618374109462, 1004.9594942615547, 965.7386207175641, 959.915347372513, 937.2206257319535, 930.6503307411924, 929.9149124243302, 924.6765778254246, 904.2175900877558, 896.7882440860636, 882.9016216593575, 874.0071233313606, 844.7183369589375, 822.677056909057, 800.3411859506589]\n",
      "elo_rating_online\n",
      "elo_rating_final\n",
      "leaderboard_table\n",
      "win_fraction_heatmap\n",
      "battle_count_heatmap\n",
      "average_win_rate_bar\n",
      "bootstrap_elo_rating\n",
      "last_updated_datetime\n",
      "last_updated_tstamp\n",
      "bootstrap_df\n",
      "leaderboard_table_df\n"
     ]
    }
   ],
   "source": [
    "# git clone git@hf.co:spaces/lmsys/chatbot-arena-leaderboard\n",
    "# git clone https://huggingface.co/spaces/lmsys/chatbot-arena-leaderboard\n",
    "import git\n",
    "import os\n",
    "hf_repo = \"https://huggingface.co/spaces/lmsys/chatbot-arena-leaderboard\"\n",
    "repo_dir = os.path.join(tempfile.gettempdir(), \"chatbot-arena-leaderboard\")\n",
    "\n",
    "if os.path.exists(repo_dir):\n",
    "    git.Repo(repo_dir).remotes.origin.pull()\n",
    "else:\n",
    "    git.Repo.clone_from(hf_repo, repo_dir)\n",
    "\n",
    "import datetime\n",
    "latest_leaderboard = (\"null\", datetime.datetime(1970, 1, 1))\n",
    "latest_elo = (\"null\", datetime.datetime(1970, 1, 1))\n",
    "def latest(maybe, last):\n",
    "    return maybe if maybe[1] > last[1] else last\n",
    "\n",
    "for name in os.listdir(repo_dir):\n",
    "    splt = name.split(\"_\")\n",
    "    kind = splt[0]\n",
    "    if kind == \"leaderboard\" or kind == \"elo\":\n",
    "        date, _ = splt[2].split(\".\")\n",
    "        year = int(date[:4])\n",
    "        month = int(date[4:6])\n",
    "        day = int(date[6:8])\n",
    "        dt = datetime.datetime(year, month, day)\n",
    "        maybe = (name, dt)\n",
    "\n",
    "        if kind == \"leaderboard\":\n",
    "            latest_leaderboard = latest(maybe, latest_leaderboard)\n",
    "        elif kind == \"elo\":\n",
    "            latest_elo = latest(maybe, latest_elo)\n",
    "\n",
    "leaderboard_file = os.path.join(repo_dir, latest_leaderboard[0])\n",
    "print(leaderboard_file)\n",
    "with open(leaderboard_file) as f:\n",
    "    print(f.readline().rstrip())\n",
    "    for line in f:\n",
    "        line = line.rstrip()\n",
    "        key,model,score,mmlu,date,license_,org,link = line.split(\",\")\n",
    "        # print(key,model,score,mmlu,date,license_,org,link)\n",
    "\n",
    "elo_file = os.path.join(repo_dir, latest_elo[0])\n",
    "print(elo_file)\n",
    "import pickle\n",
    "with open(elo_file, \"rb\") as f:\n",
    "    data = pickle.load(f)\n",
    "    # print(data[\"rating_system\"]) -- bt? whatever\n",
    "    print(sorted(data[\"elo_rating_online\"].items(), key=lambda x: x[1], reverse=True))\n",
    "    print(data[\"elo_rating_final\"].to_list())\n",
    "    for k,v in data.items():\n",
    "        if k not in [\"rating_system\"]:\n",
    "            print(k)"
   ]
  },
  {
   "cell_type": "code",
   "execution_count": 2,
   "metadata": {},
   "outputs": [
    {
     "name": "stderr",
     "output_type": "stream",
     "text": [
      "usage: ipykernel_launcher.py [-h] [--share]\n",
      "ipykernel_launcher.py: error: unrecognized arguments: --f=/home/alxmke/.local/share/jupyter/runtime/kernel-v2-1746iZVmGvTWowae.json\n"
     ]
    },
    {
     "ename": "SystemExit",
     "evalue": "2",
     "output_type": "error",
     "traceback": [
      "An exception has occurred, use %tb to see the full traceback.\n",
      "\u001b[0;31mSystemExit\u001b[0m\u001b[0;31m:\u001b[0m 2\n"
     ]
    }
   ],
   "source": []
  }
 ],
 "metadata": {
  "kernelspec": {
   "display_name": ".venv",
   "language": "python",
   "name": "python3"
  },
  "language_info": {
   "codemirror_mode": {
    "name": "ipython",
    "version": 3
   },
   "file_extension": ".py",
   "mimetype": "text/x-python",
   "name": "python",
   "nbconvert_exporter": "python",
   "pygments_lexer": "ipython3",
   "version": "3.10.9"
  }
 },
 "nbformat": 4,
 "nbformat_minor": 2
}
